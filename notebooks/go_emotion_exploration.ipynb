{
 "cells": [
  {
   "cell_type": "code",
   "execution_count": 1,
   "id": "1bbddadd-b0b9-45be-a390-ecccf30ccf20",
   "metadata": {},
   "outputs": [
    {
     "name": "stderr",
     "output_type": "stream",
     "text": [
      "/Users/Daniel/anaconda3/envs/emotion_env/lib/python3.10/site-packages/tqdm/auto.py:21: TqdmWarning: IProgress not found. Please update jupyter and ipywidgets. See https://ipywidgets.readthedocs.io/en/stable/user_install.html\n",
      "  from .autonotebook import tqdm as notebook_tqdm\n"
     ]
    },
    {
     "name": "stdout",
     "output_type": "stream",
     "text": [
      "dict_keys(['train', 'validation', 'test'])\n"
     ]
    }
   ],
   "source": [
    "from datasets import load_dataset\n",
    "import pandas as pd\n",
    "\n",
    "# Load GoEmotions\n",
    "dataset = load_dataset(\"go_emotions\")\n",
    "\n",
    "# Check the keys (splits)\n",
    "print(dataset.keys())  # ['train', 'validation', 'test']"
   ]
  },
  {
   "cell_type": "code",
   "execution_count": 2,
   "id": "50052ba3-27b1-48a5-9f55-4e87583f60cb",
   "metadata": {},
   "outputs": [
    {
     "name": "stdout",
     "output_type": "stream",
     "text": [
      "{'text': 'Dirty Southern Wankers', 'labels': [3], 'id': 'ed0bdzj'}\n"
     ]
    }
   ],
   "source": [
    "# View one sample from the training set\n",
    "print(dataset['train'][4])"
   ]
  },
  {
   "cell_type": "code",
   "execution_count": 3,
   "id": "85aadef0-cbc7-4f03-a642-3a07399cdcde",
   "metadata": {},
   "outputs": [
    {
     "name": "stdout",
     "output_type": "stream",
     "text": [
      "['admiration', 'amusement', 'anger', 'annoyance', 'approval', 'caring', 'confusion', 'curiosity', 'desire', 'disappointment', 'disapproval', 'disgust', 'embarrassment', 'excitement', 'fear', 'gratitude', 'grief', 'joy', 'love', 'nervousness', 'optimism', 'pride', 'realization', 'relief', 'remorse', 'sadness', 'surprise', 'neutral']\n"
     ]
    }
   ],
   "source": [
    "# List of all emotions \n",
    "label_names = dataset['train'].features['labels'].feature.names\n",
    "print(label_names)"
   ]
  },
  {
   "cell_type": "code",
   "execution_count": 4,
   "id": "b86286ea-184d-4106-b80b-2701a05ad295",
   "metadata": {},
   "outputs": [
    {
     "name": "stdout",
     "output_type": "stream",
     "text": [
      "['neutral']\n"
     ]
    }
   ],
   "source": [
    "# Get the list of emotion labels\n",
    "label_names = dataset['train'].features['labels'].feature.names\n",
    "\n",
    "# Example: Get emotion names for the first sample\n",
    "sample_labels = dataset['train'][0]['labels']\n",
    "sample_emotions = [label_names[i] for i in sample_labels]\n",
    "print(sample_emotions)"
   ]
  },
  {
   "cell_type": "code",
   "execution_count": 5,
   "id": "74e98ecc-c232-4f29-8a4d-bfa360b9ddee",
   "metadata": {},
   "outputs": [
    {
     "name": "stdout",
     "output_type": "stream",
     "text": [
      "Sample 0 emotions: ['neutral']\n",
      "Sample 1 emotions: ['neutral']\n",
      "Sample 2 emotions: ['anger']\n",
      "Sample 3 emotions: ['fear']\n",
      "Sample 4 emotions: ['annoyance']\n"
     ]
    }
   ],
   "source": [
    "# Check a few samples\n",
    "for i in range(5):\n",
    "    labels = dataset['train'][i]['labels']\n",
    "    emotions = [label_names[j] for j in labels]\n",
    "    print(f\"Sample {i} emotions: {emotions}\")"
   ]
  },
  {
   "cell_type": "markdown",
   "id": "13a91f18-d647-499b-9a21-cf1e7e839879",
   "metadata": {},
   "source": [
    "#### Now have to decide how to tackle this data, either: \n",
    "\n",
    "1) Option 1: Single-Label SVM\n",
    "\n",
    "- Simplify and just use the first emotion (or only those samples with one label), then use SVM exactly like we did for Reddit - or - \n",
    "\n",
    "2) Option 2: Multi-Label Classifier (Optional for later)\n",
    "\n",
    "- If we want to try multi-label classification later, you'd use:\n",
    "\n",
    "    - A OneVsRestClassifier wrapper around SVC\n",
    "\n",
    "    - Or switch to a deep learning model with sigmoid outputs"
   ]
  },
  {
   "cell_type": "code",
   "execution_count": 6,
   "id": "e7353ae3-c9a0-4ff1-a068-21c9a78a1e03",
   "metadata": {},
   "outputs": [
    {
     "name": "stdout",
     "output_type": "stream",
     "text": [
      "                precision    recall  f1-score   support\n",
      "\n",
      "    admiration       0.63      0.57      0.60       678\n",
      "     amusement       0.71      0.79      0.75       413\n",
      "         anger       0.42      0.30      0.35       256\n",
      "     annoyance       0.34      0.09      0.14       363\n",
      "      approval       0.48      0.13      0.20       468\n",
      "        caring       0.38      0.14      0.20       162\n",
      "     confusion       0.54      0.12      0.20       215\n",
      "     curiosity       0.67      0.09      0.15       347\n",
      "        desire       0.57      0.34      0.43        97\n",
      "disappointment       0.47      0.05      0.09       177\n",
      "   disapproval       0.24      0.03      0.05       351\n",
      "       disgust       0.57      0.32      0.41       125\n",
      " embarrassment       0.57      0.16      0.25        51\n",
      "    excitement       0.40      0.11      0.17       128\n",
      "          fear       0.57      0.47      0.51       107\n",
      "     gratitude       0.92      0.88      0.90       464\n",
      "         grief       0.00      0.00      0.00        10\n",
      "           joy       0.54      0.45      0.49       213\n",
      "          love       0.69      0.75      0.72       357\n",
      "   nervousness       0.40      0.10      0.15        21\n",
      "      optimism       0.66      0.59      0.63       215\n",
      "         pride       0.17      0.08      0.11        13\n",
      "   realization       0.40      0.08      0.14       146\n",
      "        relief       0.00      0.00      0.00        22\n",
      "       remorse       0.59      0.64      0.61        88\n",
      "       sadness       0.62      0.39      0.48       204\n",
      "      surprise       0.53      0.47      0.50       180\n",
      "       neutral       0.51      0.88      0.64      3206\n",
      "\n",
      "      accuracy                           0.56      9077\n",
      "     macro avg       0.49      0.32      0.35      9077\n",
      "  weighted avg       0.54      0.56      0.50      9077\n",
      "\n"
     ]
    },
    {
     "name": "stderr",
     "output_type": "stream",
     "text": [
      "/Users/Daniel/anaconda3/envs/emotion_env/lib/python3.10/site-packages/sklearn/metrics/_classification.py:1565: UndefinedMetricWarning: Precision is ill-defined and being set to 0.0 in labels with no predicted samples. Use `zero_division` parameter to control this behavior.\n",
      "  _warn_prf(average, modifier, f\"{metric.capitalize()} is\", len(result))\n",
      "/Users/Daniel/anaconda3/envs/emotion_env/lib/python3.10/site-packages/sklearn/metrics/_classification.py:1565: UndefinedMetricWarning: Precision is ill-defined and being set to 0.0 in labels with no predicted samples. Use `zero_division` parameter to control this behavior.\n",
      "  _warn_prf(average, modifier, f\"{metric.capitalize()} is\", len(result))\n",
      "/Users/Daniel/anaconda3/envs/emotion_env/lib/python3.10/site-packages/sklearn/metrics/_classification.py:1565: UndefinedMetricWarning: Precision is ill-defined and being set to 0.0 in labels with no predicted samples. Use `zero_division` parameter to control this behavior.\n",
      "  _warn_prf(average, modifier, f\"{metric.capitalize()} is\", len(result))\n"
     ]
    }
   ],
   "source": [
    "# Let's go with Option 1: Single-Label SVM for now \n",
    "from sklearn.feature_extraction.text import TfidfVectorizer\n",
    "from sklearn.svm import LinearSVC\n",
    "from sklearn.model_selection import train_test_split\n",
    "from sklearn.metrics import classification_report\n",
    "\n",
    "# Get only examples with ONE label\n",
    "df = pd.DataFrame(dataset['train'])\n",
    "df = df[df['labels'].apply(lambda x: len(x) == 1)]\n",
    "df['label'] = df['labels'].apply(lambda x: x[0])\n",
    "df['label_name'] = df['label'].apply(lambda i: label_names[i])\n",
    "\n",
    "# TF-IDF\n",
    "vectorizer = TfidfVectorizer(max_features=1000, stop_words='english')\n",
    "X = vectorizer.fit_transform(df['text'])\n",
    "y = df['label']\n",
    "\n",
    "# Split\n",
    "X_train, X_test, y_train, y_test = train_test_split(X, y, stratify=y)\n",
    "\n",
    "# Train\n",
    "clf = LinearSVC()\n",
    "clf.fit(X_train, y_train)\n",
    "\n",
    "# Evaluate\n",
    "y_pred = clf.predict(X_test)\n",
    "print(classification_report(y_test, y_pred, target_names=label_names))"
   ]
  },
  {
   "cell_type": "code",
   "execution_count": 7,
   "id": "11603578-c6b7-4846-b82a-ba99141ad0f2",
   "metadata": {},
   "outputs": [
    {
     "ename": "ModuleNotFoundError",
     "evalue": "No module named 'matplotlib'",
     "output_type": "error",
     "traceback": [
      "\u001b[0;31m---------------------------------------------------------------------------\u001b[0m",
      "\u001b[0;31mModuleNotFoundError\u001b[0m                       Traceback (most recent call last)",
      "Cell \u001b[0;32mIn[7], line 1\u001b[0m\n\u001b[0;32m----> 1\u001b[0m \u001b[38;5;28;01mimport\u001b[39;00m\u001b[38;5;250m \u001b[39m\u001b[38;5;21;01mmatplotlib\u001b[39;00m\u001b[38;5;21;01m.\u001b[39;00m\u001b[38;5;21;01mpyplot\u001b[39;00m\u001b[38;5;250m \u001b[39m\u001b[38;5;28;01mas\u001b[39;00m\u001b[38;5;250m \u001b[39m\u001b[38;5;21;01mplt\u001b[39;00m\n\u001b[1;32m      2\u001b[0m \u001b[38;5;28;01mimport\u001b[39;00m\u001b[38;5;250m \u001b[39m\u001b[38;5;21;01mseaborn\u001b[39;00m\n",
      "\u001b[0;31mModuleNotFoundError\u001b[0m: No module named 'matplotlib'"
     ]
    }
   ],
   "source": [
    "import matplotlib.pyplot as plt\n",
    "import seaborn"
   ]
  },
  {
   "cell_type": "code",
   "execution_count": null,
   "id": "98431c33-6271-47d5-9ba0-447efbc2723a",
   "metadata": {},
   "outputs": [],
   "source": []
  }
 ],
 "metadata": {
  "kernelspec": {
   "display_name": "Python 3 (ipykernel)",
   "language": "python",
   "name": "python3"
  },
  "language_info": {
   "codemirror_mode": {
    "name": "ipython",
    "version": 3
   },
   "file_extension": ".py",
   "mimetype": "text/x-python",
   "name": "python",
   "nbconvert_exporter": "python",
   "pygments_lexer": "ipython3",
   "version": "3.10.17"
  }
 },
 "nbformat": 4,
 "nbformat_minor": 5
}
