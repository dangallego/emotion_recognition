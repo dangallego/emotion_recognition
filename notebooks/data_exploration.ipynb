{
 "cells": [
  {
   "cell_type": "code",
   "execution_count": 1,
   "id": "a7de6672-07df-4174-befa-74e77dab8970",
   "metadata": {},
   "outputs": [],
   "source": [
    "import pandas as pd"
   ]
  },
  {
   "cell_type": "code",
   "execution_count": 3,
   "id": "468852fa-5865-43e7-b992-cc6f0517e8b2",
   "metadata": {},
   "outputs": [
    {
     "name": "stdout",
     "output_type": "stream",
     "text": [
      "                                                text   subreddit  \\\n",
      "0  I just spent $60 for the most disappointing BJ...  confession   \n",
      "1  I lied about the pain during my colonoscopy to...  confession   \n",
      "2  Got a massage in another country but didn’t en...  confession   \n",
      "3  I’m pretty sure I once mistakenly had a sugar ...  confession   \n",
      "4  As a kid, whenever my mom would upset me, I’d ...  confession   \n",
      "\n",
      "  emotion_label  score  \n",
      "0       neutral   1758  \n",
      "1       neutral    278  \n",
      "2       neutral   3821  \n",
      "3       neutral     49  \n",
      "4       neutral     49  \n",
      "emotion_label\n",
      "neutral    100\n",
      "mixed      100\n",
      "joy        100\n",
      "sadness    100\n",
      "Name: count, dtype: int64\n"
     ]
    }
   ],
   "source": [
    "df = pd.read_csv(\"../data/processed/reddit_cleaned.csv\")\n",
    "print(df.head())\n",
    "print(df['emotion_label'].value_counts())"
   ]
  },
  {
   "cell_type": "code",
   "execution_count": null,
   "id": "541c61d7-280e-4360-9498-beb3ccee373f",
   "metadata": {},
   "outputs": [],
   "source": []
  }
 ],
 "metadata": {
  "kernelspec": {
   "display_name": "Python 3 (ipykernel)",
   "language": "python",
   "name": "python3"
  },
  "language_info": {
   "codemirror_mode": {
    "name": "ipython",
    "version": 3
   },
   "file_extension": ".py",
   "mimetype": "text/x-python",
   "name": "python",
   "nbconvert_exporter": "python",
   "pygments_lexer": "ipython3",
   "version": "3.10.17"
  }
 },
 "nbformat": 4,
 "nbformat_minor": 5
}
